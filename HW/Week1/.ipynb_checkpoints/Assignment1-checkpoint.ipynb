{
 "cells": [
  {
   "cell_type": "markdown",
   "metadata": {},
   "source": [
    "# Graded Assignment 1\n",
    "\n",
    "**Please do not share this material on any platform or by any other means.**\n",
    "\n",
    "Objectives:\n",
    "    - Dictionary comprehension\n",
    "    - `for` loops\n",
    "    - Functions and recursive functions\n",
    "    - `map` and `filter`\n",
    "    - Bonus:Improving coding, loops & list comprehension\n",
    "\n",
    "\n",
    "### **Important Notes:** \n",
    "\n",
    "**Your code must run without any errors start to end. Explanations are very important. Late assignments may receive reduced credit.**\n",
    "\n",
    "* Purpose of the assignment is to assess your knowledge and command of the Python programming language and your ability to resolve common errors. Grading is based on the code you are submitting, not the formatting of the results. \n",
    "* Please use the examples as a guideline, you are not expected to have the same formatting as the example, unless it is a formatting question. \n",
    "* Remember, there are many ways to code that can lead to the correct answer, do not hesitate to exercise your own style and python programming coventions. "
   ]
  },
  {
   "cell_type": "markdown",
   "metadata": {},
   "source": [
    "## Question 1: Create this dictionary: {0: 0, 1: 1, 2: 8, 3: 27, 4: 64} using dictionary comprehension."
   ]
  },
  {
   "cell_type": "code",
   "execution_count": 1,
   "metadata": {},
   "outputs": [
    {
     "data": {
      "text/plain": [
       "{0: 2, 1: 3, 2: 0, 3: 1, 4: 6}"
      ]
     },
     "execution_count": 1,
     "metadata": {},
     "output_type": "execute_result"
    }
   ],
   "source": [
    "dictionary1 = {i:i^2 for i in range(5)}\n",
    "dictionary1"
   ]
  },
  {
   "cell_type": "markdown",
   "metadata": {},
   "source": [
    "## Question 2: Sort the dictionary in descending order you created in Q1. \n",
    "Dictionaries are unordered collections. Write a `for` loop that prints the items (keys and values) in the dictionary you created in Q1 in DESCENDING sorted order. (Hint: use the `keys` and list `sort` methods, or `sorted` function)"
   ]
  },
  {
   "cell_type": "code",
   "execution_count": 2,
   "metadata": {},
   "outputs": [
    {
     "name": "stdout",
     "output_type": "stream",
     "text": [
      "4 6\n",
      "3 1\n",
      "2 0\n",
      "1 3\n",
      "0 2\n"
     ]
    }
   ],
   "source": [
    "for i in sorted(dictionary1.keys(),reverse = True):\n",
    "    print(i,dictionary1[i])"
   ]
  },
  {
   "cell_type": "markdown",
   "metadata": {},
   "source": [
    "## Question 3: Coding basic loops (Experimenting with `for` loops)\n",
    "### 3.A Write a `for` loop that prints ASCII code of each character in a string named `S`. Use the built-in function `ord(character)` to convert each character to an ASCII integer."
   ]
  },
  {
   "cell_type": "code",
   "execution_count": 3,
   "metadata": {},
   "outputs": [
    {
     "name": "stdout",
     "output_type": "stream",
     "text": [
      "82\n",
      "101\n",
      "110\n",
      "106\n",
      "105\n",
      "101\n"
     ]
    }
   ],
   "source": [
    "S = 'Renjie'\n",
    "for i in S:\n",
    "    print(ord(i))\n"
   ]
  },
  {
   "cell_type": "markdown",
   "metadata": {},
   "source": [
    "### 3.B Next, change your loop to compute the `sum` of the ASCII codes of all the characters in a string. "
   ]
  },
  {
   "cell_type": "code",
   "execution_count": 4,
   "metadata": {},
   "outputs": [
    {
     "name": "stdout",
     "output_type": "stream",
     "text": [
      "605\n"
     ]
    }
   ],
   "source": [
    "S = 'Renjie'\n",
    "sum1 = 0\n",
    "for i in S:\n",
    "    sum1 = sum1 + ord(i)\n",
    "print(sum1)"
   ]
  },
  {
   "cell_type": "markdown",
   "metadata": {},
   "source": [
    "### 3.C Finally, modify your code again to return a new list that **contains** the ASCII codes of each character in the string. Try using the  `map(ord,S)` expression. Does the espression `map(ord,S)` have a similar effect? How about `[ord(c) for c in S]`. Why?"
   ]
  },
  {
   "cell_type": "code",
   "execution_count": 5,
   "metadata": {},
   "outputs": [
    {
     "data": {
      "text/plain": [
       "[82, 101, 110, 106, 105, 101]"
      ]
     },
     "execution_count": 5,
     "metadata": {},
     "output_type": "execute_result"
    }
   ],
   "source": [
    "S = 'Renjie'\n",
    "list1 = []\n",
    "for i in S:\n",
    "    list1.append(ord(i))\n",
    "list1\n"
   ]
  },
  {
   "cell_type": "code",
   "execution_count": 6,
   "metadata": {},
   "outputs": [
    {
     "data": {
      "text/plain": [
       "[82, 101, 110, 106, 105, 101]"
      ]
     },
     "execution_count": 6,
     "metadata": {},
     "output_type": "execute_result"
    }
   ],
   "source": [
    "list3 = list(map(ord,S))\n",
    "list3"
   ]
  },
  {
   "cell_type": "code",
   "execution_count": 7,
   "metadata": {},
   "outputs": [
    {
     "data": {
      "text/plain": [
       "[82, 101, 110, 106, 105, 101]"
      ]
     },
     "execution_count": 7,
     "metadata": {},
     "output_type": "execute_result"
    }
   ],
   "source": [
    "list2 = list(ord(i) for i in S)\n",
    "list2"
   ]
  },
  {
   "cell_type": "markdown",
   "metadata": {},
   "source": [
    "They have similar effect becase map(ord,s) and [ord(c) for c in S] uses list comprehension\n"
   ]
  },
  {
   "cell_type": "markdown",
   "metadata": {},
   "source": [
    "## Question 4: Fill the missing sections of the `count_even_numbers` function\n",
    "Fill `____` sections of the `count_even_numbers` implemention in order to pass the assertions. You can assume that `numbers` argument is a list of integers.\n",
    "\n",
    "Note: `assertions` are simply boolean expressions that checks if the conditions return true or not. If it is true, the program does nothing and move to the next line of code. However, if it's false, the program stops and throws an error.\n",
    "\n",
    "Here in the code section, the `assert` is assuming your function name is 'count_even_numbers' and it is receiving a parameter that is a list of numbers. As in the examples below, the list may have a varying lenght. "
   ]
  },
  {
   "cell_type": "markdown",
   "metadata": {},
   "source": [
    "```python\n",
    "____ count_even_numbers(numbers):\n",
    "    count = 0\n",
    "    for num in ____:\n",
    "        if ____ % 2 == ____:\n",
    "            count += ____\n",
    "    _____ _____\n",
    "```"
   ]
  },
  {
   "cell_type": "code",
   "execution_count": null,
   "metadata": {},
   "outputs": [],
   "source": [
    "def count_even_numbers(numbers):\n",
    "    count = 0\n",
    "    for num in numbers:\n",
    "        if num % 2 == 0:\n",
    "            count += 1\n",
    "    return count"
   ]
  },
  {
   "cell_type": "code",
   "execution_count": null,
   "metadata": {},
   "outputs": [],
   "source": [
    "assert count_even_numbers([1, 2, 3, 4, 5, 6]) == 3 # given the input, does the function result equal to 3? if yes, pass else raise an issue\n",
    "assert count_even_numbers([1, 3, 5, 7]) == 0\n",
    "assert count_even_numbers([-2, 2, -10, 8]) == 4"
   ]
  },
  {
   "cell_type": "markdown",
   "metadata": {},
   "source": [
    "## Question 5: Write a function that checks whether a number is in a given range (Inclusive of high and inclusive of low)\n",
    "\n",
    "sample test: \n",
    "range_check(n,low,high)\n",
    "- assert range_check(7,5,7) == True\n",
    "- assert range_check(2,4,6) == False\n",
    "\n",
    "Here the assert function is assuming your function name is 'range_check', and there are 3 parameters user will be providing; number to check, the low and the high value; result is either `True` or `False`. \n",
    "Here is the function definition:\n",
    "\n",
    "    range_check(search_number,low,high)"
   ]
  },
  {
   "cell_type": "code",
   "execution_count": null,
   "metadata": {},
   "outputs": [],
   "source": [
    "def range_check(n,low,high):\n",
    "    if n >= low:\n",
    "        if n <= high:\n",
    "            return True\n",
    "        else:\n",
    "            return False\n",
    "    else:\n",
    "        return False\n"
   ]
  },
  {
   "cell_type": "code",
   "execution_count": null,
   "metadata": {},
   "outputs": [],
   "source": [
    "# test whether your function works. \n",
    "assert range_check(7,5,7)== True # given the input, does the function result equal to True? if yes, pass, else raise an issue\n",
    "assert range_check(2,4,6)== False"
   ]
  },
  {
   "cell_type": "markdown",
   "metadata": {},
   "source": [
    "## Question 6: Write a function where user is asked to make an entry, and the square of the entry is printed. You can use a `while` loop with a `try`,`except`, `else` block to account for incorrect inputs. \n",
    "\n",
    "User will call the function once, and function will request an entry. If the entry is valid then the function will print out the square of the entry. If not valid, then user will be prompted to the error, and asked to enter a new value. \n",
    "\n",
    "For this exercise, one of the solutions includes using `break` and `continue` statements as well as `try`,`except`, `else` block with `while`. You may have a different version, importance is on whether when called your function should execute as described. If your solution is able to meet the requirements, that just means you may have a valid alternative solution!"
   ]
  },
  {
   "cell_type": "code",
   "execution_count": null,
   "metadata": {},
   "outputs": [],
   "source": [
    "def square_entry():\n",
    "    check = True\n",
    "    while check == True:\n",
    "        number = input('enter a number')\n",
    "        try:\n",
    "            return float(number)**2\n",
    "        except:\n",
    "            print('Error')\n",
    "\n",
    "square_entry()        \n",
    "        \n"
   ]
  },
  {
   "cell_type": "markdown",
   "metadata": {},
   "source": [
    "## Question 7: Write a list comprehension to calculate Fahrenheit of a Celcius temperature"
   ]
  },
  {
   "cell_type": "code",
   "execution_count": null,
   "metadata": {},
   "outputs": [],
   "source": [
    "Celcius = [15,34,65,23,0]\n",
    "Fahrenheit = [i *9/5 + 32 for i in Celcius] # add your code here\n",
    "Fahrenheit\n"
   ]
  },
  {
   "cell_type": "markdown",
   "metadata": {},
   "source": [
    "## Question 8: Find all prime numbers between 1 and 100\n",
    "You can use a list comprehension, a function, recursion or any other method. Best would be to create a recursive function. \n",
    "A prime number is greater than 1. It's factors are 1 and itself."
   ]
  },
  {
   "cell_type": "code",
   "execution_count": 9,
   "metadata": {},
   "outputs": [
    {
     "name": "stdout",
     "output_type": "stream",
     "text": [
      "2\n",
      "3\n",
      "5\n",
      "7\n",
      "11\n",
      "13\n",
      "17\n",
      "19\n",
      "23\n",
      "29\n",
      "31\n",
      "37\n",
      "41\n",
      "43\n",
      "47\n",
      "53\n",
      "59\n",
      "61\n",
      "67\n",
      "71\n",
      "73\n",
      "79\n",
      "83\n",
      "89\n",
      "97\n"
     ]
    }
   ],
   "source": [
    "number = 0\n",
    "for number in range(1,101):\n",
    "    if number > 1:\n",
    "        for i in range(2, number):\n",
    "            if (number % i) == 0:\n",
    "                break\n",
    "        else:\n",
    "            print(number)"
   ]
  },
  {
   "cell_type": "markdown",
   "metadata": {},
   "source": [
    "## Question 9: Use the `map` function to find the length of each word in a  phrase and return the values in a list.\n",
    "Here assumption is the function name is \"len_of_strings\" and the function will have an input of a string, and output a list of integers.\n",
    "\n",
    "in >> ```len_of_strings('Find the lenght of each word in this phrase')```\n",
    "\n",
    "out >> ```[4, 3, 6, 2, 4, 4, 2, 4, 6]```"
   ]
  },
  {
   "cell_type": "code",
   "execution_count": 10,
   "metadata": {},
   "outputs": [
    {
     "data": {
      "text/plain": [
       "[4, 3, 6, 2, 4, 4, 2, 4, 6]"
      ]
     },
     "execution_count": 10,
     "metadata": {},
     "output_type": "execute_result"
    }
   ],
   "source": [
    "len_of_strings = 'Find the lenght of each word in this phrase'\n",
    "sp = len_of_strings.split()\n",
    "list(map(len,sp))\n"
   ]
  },
  {
   "cell_type": "markdown",
   "metadata": {},
   "source": [
    "## Question 10: Create a function that uses `filter` to return words from a list of words that starts with a given letter.\n",
    "The function will have an input of a string, and output a list of integers. example:\n",
    "\n",
    "in >> ```find_words(['lettuce','beans','apple','cat','dog','boy','girl','chicago','type'],'b')```\n",
    "\n",
    "out >> ```['beans', 'boy']```\n",
    "\n",
    "Here the example assumes your function name is \"find_words\" and as a param, it takes a list of strings and a letter to compare.\n",
    "\n",
    "**Hint:** you may want to use a `lambda` function to use with filter!"
   ]
  },
  {
   "cell_type": "code",
   "execution_count": 52,
   "metadata": {},
   "outputs": [
    {
     "data": {
      "text/plain": [
       "['beans', 'boy']"
      ]
     },
     "execution_count": 52,
     "metadata": {},
     "output_type": "execute_result"
    }
   ],
   "source": [
    "def find_words(list1,letter):\n",
    "    return list(filter(lambda a: a.startswith(letter), list1))\n",
    "    \n",
    "find_words(['lettuce','beans','apple','cat','dog','boy','girl','chicago','type'],'b')"
   ]
  },
  {
   "cell_type": "markdown",
   "metadata": {},
   "source": [
    "*** Graded Assignment COMPLETE. ***"
   ]
  },
  {
   "cell_type": "markdown",
   "metadata": {},
   "source": [
    "## BONUS QUESTION: Consider the following code, which uses a `while` loop and `found` flag to search a list of powers of 2 for the value of 2 raised to the fifth power (32)."
   ]
  },
  {
   "cell_type": "code",
   "execution_count": null,
   "metadata": {},
   "outputs": [],
   "source": [
    "L = [1,2,4,8,32,64]\n",
    "X = 5\n",
    "\n",
    "found = False\n",
    "i = 0\n",
    "while not found and i<len(L):\n",
    "    if 2**X == L[i]: \n",
    "        found = True\n",
    "    else:\n",
    "        i = i+1\n",
    "if found: \n",
    "    print ('at index',i)\n",
    "else:\n",
    "    print (X,'not found')"
   ]
  },
  {
   "cell_type": "markdown",
   "metadata": {},
   "source": [
    "**The code doesn't follow normal Python coding techniques, it is rather inefficient. Follow the steps below to improve the code.**"
   ]
  },
  {
   "cell_type": "markdown",
   "metadata": {},
   "source": [
    "**Step 1: Rewrite the code with a `while`  loop and `else` clause to eliminate the `found` flag and final `if` statement.** \n",
    "\n",
    "`while` loops can be used with and `else` statement, find out in which cases the `else` statement executes. You may want to look at `break` can be used as well. "
   ]
  },
  {
   "cell_type": "code",
   "execution_count": null,
   "metadata": {},
   "outputs": [],
   "source": [
    "L = [1,2,4,8,32,64]\n",
    "X = 5\n",
    "\n",
    "i = 0\n",
    "while i<len(L):\n",
    "    if 2**X == L[i]: \n",
    "        print ('at index',i)\n",
    "        break\n",
    "    else:\n",
    "        i = i+1"
   ]
  },
  {
   "cell_type": "markdown",
   "metadata": {},
   "source": [
    "**Step 2: Rewrite the example to use a for loop with an `else` clause, to eliminate the explicit list-indexing logic.(Hint: to get the index of an item, use the list `index` method -- `L.index(X)` returns the offset of the first `X` in list `L`**."
   ]
  },
  {
   "cell_type": "code",
   "execution_count": null,
   "metadata": {},
   "outputs": [],
   "source": [
    "L = [1,2,4,8,32,64]\n",
    "X = 5\n",
    "\n",
    "i = 0\n",
    "for i in L:\n",
    "    if 2**X == L[i]: \n",
    "        found = True\n",
    "else:\n",
    "    print (X,'not found')\n"
   ]
  },
  {
   "cell_type": "markdown",
   "metadata": {},
   "source": [
    "**Step 3: Remove the `for` loop completely by rewriting the example with a simple `in` operator membership expression.**"
   ]
  },
  {
   "cell_type": "code",
   "execution_count": null,
   "metadata": {},
   "outputs": [],
   "source": [
    "# add your code here\n"
   ]
  },
  {
   "cell_type": "markdown",
   "metadata": {},
   "source": [
    "**Step 4: Use a `for` loop and the list `append` method to generate the powers-of-2 list (`L`) instead of hardcoding a list literal**"
   ]
  },
  {
   "cell_type": "code",
   "execution_count": null,
   "metadata": {},
   "outputs": [],
   "source": [
    "step4=[]\n",
    "for i in L:\n",
    "    step4.append(L[i]**2)\n",
    "step4\n"
   ]
  },
  {
   "cell_type": "markdown",
   "metadata": {},
   "source": [
    "**Step 5: Would a list comprehension help here? If so, write the list comprehension version.**"
   ]
  },
  {
   "cell_type": "code",
   "execution_count": null,
   "metadata": {},
   "outputs": [],
   "source": [
    "# add your code here\n"
   ]
  },
  {
   "cell_type": "markdown",
   "metadata": {},
   "source": [
    "*** BONUS COMPLETE. ***"
   ]
  }
 ],
 "metadata": {
  "kernelspec": {
   "display_name": "Python 3",
   "language": "python",
   "name": "python3"
  },
  "language_info": {
   "codemirror_mode": {
    "name": "ipython",
    "version": 3
   },
   "file_extension": ".py",
   "mimetype": "text/x-python",
   "name": "python",
   "nbconvert_exporter": "python",
   "pygments_lexer": "ipython3",
   "version": "3.8.3"
  }
 },
 "nbformat": 4,
 "nbformat_minor": 2
}
