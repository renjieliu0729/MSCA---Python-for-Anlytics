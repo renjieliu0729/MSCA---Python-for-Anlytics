{
 "cells": [
  {
   "cell_type": "markdown",
   "metadata": {},
   "source": [
    "## Simple Guessing Game"
   ]
  },
  {
   "cell_type": "markdown",
   "metadata": {},
   "source": [
    "**Q1.** A random number between 1 to 10 is selected randomly by the program below. Write some code that displays a different message depending on the guess: **too high, too low, just right!** Allow the user to try 5 times!\n",
    "\n",
    "Complete the program below to do so. "
   ]
  },
  {
   "cell_type": "code",
   "execution_count": 1,
   "metadata": {},
   "outputs": [
    {
     "name": "stdout",
     "output_type": "stream",
     "text": [
      "The program selected a number between 1 to 10.\n",
      "You can guess 5 times!\n",
      "Take a guess: 10\n",
      "just right\n"
     ]
    }
   ],
   "source": [
    "import random\n",
    "number_to_guess = random.randrange(1,11)\n",
    "#print (number_to_guess)\n",
    "print ('The program selected a number between 1 to 10.')\n",
    "print ('You can guess 5 times!')\n",
    "count = 0\n",
    "while count < 5 : \n",
    "    count = count +1\n",
    "    guess = input('Take a guess: ')\n",
    "    if int(guess) == number_to_guess:\n",
    "        print('just right')\n",
    "        break\n",
    "    elif int(guess) > number_to_guess:\n",
    "        print('too high')\n",
    "\n",
    "    else:\n",
    "        print('too low')\n",
    "\n",
    "    #TODO: add the print section based on the guess entered, whether it is too high, too low, just right\n",
    "     # you can use break to exit a while loop "
   ]
  },
  {
   "cell_type": "code",
   "execution_count": null,
   "metadata": {},
   "outputs": [],
   "source": []
  },
  {
   "cell_type": "code",
   "execution_count": null,
   "metadata": {},
   "outputs": [],
   "source": []
  }
 ],
 "metadata": {
  "kernelspec": {
   "display_name": "Python 3",
   "language": "python",
   "name": "python3"
  },
  "language_info": {
   "codemirror_mode": {
    "name": "ipython",
    "version": 3
   },
   "file_extension": ".py",
   "mimetype": "text/x-python",
   "name": "python",
   "nbconvert_exporter": "python",
   "pygments_lexer": "ipython3",
   "version": "3.8.3"
  }
 },
 "nbformat": 4,
 "nbformat_minor": 2
}
